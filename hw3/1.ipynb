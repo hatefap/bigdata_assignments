{
 "cells": [
  {
   "cell_type": "code",
   "execution_count": 1,
   "metadata": {},
   "outputs": [],
   "source": [
    "from pyspark import SparkConf, SparkContext\n",
    "import string"
   ]
  },
  {
   "cell_type": "code",
   "execution_count": 2,
   "metadata": {},
   "outputs": [],
   "source": [
    "data_location = \"file:///home/hatef/courses/term-4/hw3/Datasets/1/input.txt\"\n",
    "conf = SparkConf().setMaster(\"local[*]\").setAppName(\"one\")\n",
    "sc = SparkContext(conf = conf).getOrCreate()\n"
   ]
  },
  {
   "cell_type": "code",
   "execution_count": 3,
   "metadata": {},
   "outputs": [],
   "source": [
    "inp = sc.textFile(data_location)"
   ]
  },
  {
   "cell_type": "code",
   "execution_count": 4,
   "metadata": {},
   "outputs": [
    {
     "name": "stdout",
     "output_type": "stream",
     "text": [
      "['Games are a fun way to get people involved and learning in a happy environment and get them to work on concepts and tactics without them knowing it a lot of the time. Because of this, these games were perfect in a class on negotiation and persuasion because it loosened people up and allowed them to learn in a fun environment. The games used in this class were reinforcing the concepts we talked about and got familiar with in the lectures, but the games were a safe place where we could give them a spin, test drive these persuasion tactics on our peers. With this we were able to make the connection between theory and application of concepts which have no use on paper. This class was about learning how to use language and framing to the extent where you make people think they want what you want, get to identify with your subject and get them on your level before you persuade them to act, and such concepts are great in theory but the application of them takes some practice and with mastery, as Rufo has shown us, anything really is possible. There were five total games: Bullshit, Car salesman, Werewolf, XY, and the final game which goes by many names. For the purposes of this paper it will be referred to as “Fuck Your Buddy”. There was another “game” called I Win You Lose but since that was really only a precursor the the debate off I didn’t really count it. There were several tactics used in each of the games and a lot of these overlapped. The ones I’m going to discuss are lying, identification, and collaboration. These three are some of the strongest persuasion tactics I have found when playing these games, and often times lying and admitting it straight away can help me in the long run, knowing people and what they like so I can tell them what they want to hear, and “teaming up” with people that I know I’m stronger at persuading than can make it easier to get rid of the competition. The combination of all of these tactics have allowed me to excel at the games played in class and have a strong grasp of the theory that the games are focused on. ']\n"
     ]
    }
   ],
   "source": [
    "sample = inp.take(1)\n",
    "print(sample)"
   ]
  },
  {
   "cell_type": "code",
   "execution_count": 5,
   "metadata": {},
   "outputs": [],
   "source": [
    "### part 1"
   ]
  },
  {
   "cell_type": "code",
   "execution_count": 6,
   "metadata": {},
   "outputs": [],
   "source": [
    "def remove_punctuation(text):\n",
    "    text = text.translate(str.maketrans('', '', string.punctuation))\n",
    "    return text.split()\n",
    "                       "
   ]
  },
  {
   "cell_type": "code",
   "execution_count": 7,
   "metadata": {},
   "outputs": [],
   "source": [
    "words = inp.flatMap(remove_punctuation)"
   ]
  },
  {
   "cell_type": "code",
   "execution_count": 8,
   "metadata": {},
   "outputs": [
    {
     "name": "stdout",
     "output_type": "stream",
     "text": [
      "['Games', 'are', 'a', 'fun', 'way', 'to', 'get', 'people', 'involved', 'and']\n"
     ]
    }
   ],
   "source": [
    "print(words.take(10))\n"
   ]
  },
  {
   "cell_type": "code",
   "execution_count": 9,
   "metadata": {},
   "outputs": [],
   "source": [
    "word_counts = words.countByValue()"
   ]
  },
  {
   "cell_type": "code",
   "execution_count": 11,
   "metadata": {},
   "outputs": [],
   "source": [
    "content = \"\"\n",
    "for word, count in word_counts.items():\n",
    "    content += \"(\" + word + \", \" + str(count) + \")\" + \"\\n\""
   ]
  },
  {
   "cell_type": "code",
   "execution_count": 12,
   "metadata": {},
   "outputs": [],
   "source": [
    "with open(\"/home/hatef/courses/term-4/hw3/Datasets/1/output.txt\", \"w\") as text_file:\n",
    "    text_file.write(content)ip_date = inp.map(lambda x: (x[0], x[1]))"
   ]
  },
  {
   "cell_type": "code",
   "execution_count": 13,
   "metadata": {},
   "outputs": [],
   "source": [
    "### part 2"
   ]
  },
  {
   "cell_type": "code",
   "execution_count": 14,
   "metadata": {},
   "outputs": [],
   "source": [
    "m_begin_words = words.filter(lambda word: word.startswith(\"m\") or word.startswith(\"M\"))"
   ]
  },
  {
   "cell_type": "code",
   "execution_count": 15,
   "metadata": {},
   "outputs": [
    {
     "name": "stdout",
     "output_type": "stream",
     "text": [
      "['make', 'make', 'mastery', 'many', 'me', 'make', 'me', 'me', 'my', 'more']\n"
     ]
    }
   ],
   "source": [
    "print(m_begin_words.take(10))"
   ]
  },
  {
   "cell_type": "code",
   "execution_count": 16,
   "metadata": {},
   "outputs": [
    {
     "name": "stdout",
     "output_type": "stream",
     "text": [
      "150\n"
     ]
    }
   ],
   "source": [
    "print(m_begin_words.count())"
   ]
  },
  {
   "cell_type": "code",
   "execution_count": null,
   "metadata": {},
   "outputs": [],
   "source": [
    "### part 3"
   ]
  },
  {
   "cell_type": "code",
   "execution_count": 17,
   "metadata": {},
   "outputs": [],
   "source": [
    "vowels = [\"A\", \"E\", \"I\", \"O\", \"U\", \"a\", \"e\", \"i\", \"o\", \"u\"]\n",
    "five_words = words.filter(lambda word: (len(word) == 5) and (word[0] not in vowels))"
   ]
  },
  {
   "cell_type": "code",
   "execution_count": 18,
   "metadata": {},
   "outputs": [
    {
     "name": "stdout",
     "output_type": "stream",
     "text": [
      "['Games', 'happy', 'these', 'games', 'class', 'learn', 'games', 'class', 'games', 'place']\n"
     ]
    }
   ],
   "source": [
    "print(five_words.take(10))"
   ]
  },
  {
   "cell_type": "code",
   "execution_count": 19,
   "metadata": {},
   "outputs": [
    {
     "name": "stdout",
     "output_type": "stream",
     "text": [
      "489\n"
     ]
    }
   ],
   "source": [
    "print(five_words.count())"
   ]
  },
  {
   "cell_type": "code",
   "execution_count": 20,
   "metadata": {},
   "outputs": [],
   "source": [
    "sorted_pair_five_words = five_words.map(lambda word: (word, 1)).reduceByKey(lambda x, y: x + y).map(lambda x: (x[1], x[0])).sortByKey()"
   ]
  },
  {
   "cell_type": "code",
   "execution_count": 21,
   "metadata": {},
   "outputs": [
    {
     "name": "stdout",
     "output_type": "stream",
     "text": [
      "Games 1\n",
      "peers 1\n",
      "names 1\n",
      "“Fuck 1\n",
      "count 1\n",
      "group 1\n",
      "moves 1\n",
      "cards 1\n",
      "round 1\n",
      "quiet 1\n",
      "bonus 1\n",
      "can’t 1\n",
      "calss 1\n",
      "novel 1\n",
      "comic 1\n",
      "wants 1\n",
      "grows 1\n",
      "basis 1\n",
      "grace 1\n",
      "state 1\n",
      "Final 1\n",
      "treat 1\n",
      "space 1\n",
      "WebGL 1\n",
      "tools 1\n",
      "wasnt 1\n",
      "worth 1\n",
      "roads 1\n",
      "major 1\n",
      "means 1\n",
      "goods 1\n",
      "water 1\n",
      "roman 1\n",
      "never 1\n",
      "siege 1\n",
      "haven 1\n",
      "lived 1\n",
      "tests 1\n",
      "roofs 1\n",
      "faith 1\n",
      "Since 1\n",
      "plays 1\n",
      "Pablo 1\n",
      "Named 1\n",
      "grass 1\n",
      "bench 1\n",
      "quick 1\n",
      "pizza 1\n",
      "looks 1\n",
      "Court 1\n",
      "walks 1\n",
      "stops 1\n",
      "Cross 1\n",
      "grill 1\n",
      "sweet 1\n",
      "night 1\n",
      "sushi 1\n",
      "happy 1\n",
      "learn 1\n",
      "shown 1\n",
      "total 1\n",
      "facet 1\n",
      "truth 1\n",
      "table 1\n",
      "gonna 1\n",
      "write 1\n",
      "later 1\n",
      "leads 1\n",
      "blend 1\n",
      "catch 1\n",
      "fifty 1\n",
      "tales 1\n",
      "helps 1\n",
      "brief 1\n",
      "dealt 1\n",
      "jumps 1\n",
      "lives 1\n",
      "death 1\n",
      "meant 1\n",
      "Hooks 1\n",
      "video 1\n",
      "thing 1\n",
      "prove 1\n",
      "Magog 1\n",
      "myths 1\n",
      "Given 1\n",
      "Tower 1\n",
      "holes 1\n",
      "shoot 1\n",
      "force 1\n",
      "didnt 1\n",
      "light 1\n",
      "Pauls 1\n",
      "jewel 1\n",
      "plain 1\n",
      "mines 1\n",
      "whole 1\n",
      "wrote 1\n",
      "reign 1\n",
      "local 1\n",
      "Monet 1\n",
      "plans 1\n",
      "prime 1\n",
      "lacks 1\n",
      "makes 1\n",
      "types 1\n",
      "snack 1\n",
      "Greek 1\n",
      "parts 1\n",
      "start 2\n",
      "right 2\n",
      "rules 2\n",
      "money 2\n",
      "realm 2\n",
      "weeks 2\n",
      "ships 2\n",
      "house 2\n",
      "scene 2\n",
      "likes 2\n",
      "parks 2\n",
      "drive 2\n",
      "paper 2\n",
      "final 2\n",
      "since 2\n",
      "going 2\n",
      "found 2\n",
      "don’t 2\n",
      "might 2\n",
      "gives 2\n",
      "comes 2\n",
      "teams 2\n",
      "sense 2\n",
      "build 2\n",
      "river 2\n",
      "hills 2\n",
      "Roman 2\n",
      "moved 2\n",
      "shows 2\n",
      "small 2\n",
      "globe 2\n",
      "today 2\n",
      "those 2\n",
      "relax 2\n",
      "lunch 2\n",
      "break 2\n",
      "grasp 3\n",
      "power 3\n",
      "tells 3\n",
      "trade 3\n",
      "takes 3\n",
      "trust 3\n",
      "focus 3\n",
      "terms 3\n",
      "given 3\n",
      "began 3\n",
      "story 4\n",
      "point 4\n",
      "quite 4\n",
      "based 4\n",
      "young 4\n",
      "walls 4\n",
      "level 4\n",
      "Lying 4\n",
      "still 4\n",
      "built 4\n",
      "cafés 4\n",
      "three 5\n",
      "Buddy 5\n",
      "world 5\n",
      "first 5\n",
      "while 5\n",
      "hence 5\n",
      "spend 5\n",
      "These 6\n",
      "lying 6\n",
      "times 6\n",
      "class 7\n",
      "There 7\n",
      "being 7\n",
      "great 9\n",
      "would 10\n",
      "there 11\n",
      "place 11\n",
      "where 12\n",
      "think 12\n",
      "style 13\n",
      "these 14\n",
      "games 15\n",
      "could 15\n",
      "which 19\n",
      "their 19\n"
     ]
    }
   ],
   "source": [
    "results = sorted_pair_five_words.collect()\n",
    "for res in results:\n",
    "    cnt = res[0]\n",
    "    word = res[1]\n",
    "    print(word, cnt)"
   ]
  },
  {
   "cell_type": "code",
   "execution_count": 22,
   "metadata": {},
   "outputs": [
    {
     "name": "stdout",
     "output_type": "stream",
     "text": [
      "5004\n"
     ]
    }
   ],
   "source": [
    "### part 4\n",
    "all_words_cnt = words.count()\n",
    "print(all_words_cnt)"
   ]
  },
  {
   "cell_type": "code",
   "execution_count": 23,
   "metadata": {},
   "outputs": [],
   "source": [
    "stop_words_rdd = words.map(lambda word: (word, 1)).reduceByKey(lambda x, y: x + y).map(lambda x: (x[1], x[0])).sortByKey()"
   ]
  },
  {
   "cell_type": "code",
   "execution_count": 24,
   "metadata": {},
   "outputs": [],
   "source": [
    "stop_words = []\n",
    "for _, w in stop_words_rdd.top(round(all_words_cnt * 0.1)):\n",
    "    stop_words.append(w)"
   ]
  },
  {
   "cell_type": "code",
   "execution_count": 25,
   "metadata": {},
   "outputs": [
    {
     "data": {
      "text/plain": [
       "['the', 'and', 'of', 'to', 'in']"
      ]
     },
     "execution_count": 25,
     "metadata": {},
     "output_type": "execute_result"
    }
   ],
   "source": [
    "stop_words[:5]"
   ]
  },
  {
   "cell_type": "code",
   "execution_count": 26,
   "metadata": {},
   "outputs": [],
   "source": [
    "import re\n",
    "\n",
    "def remove_stopwords_and_nonletters(text):\n",
    "    text = re.sub(r'[^A-Za-z0-9 ]+', '', text)\n",
    "    filtered_list = []\n",
    "    for word in text.split():\n",
    "        if word not in stop_words:\n",
    "            filtered_list.append(word)\n",
    "    \n",
    "    return \" \".join(filtered_list)\n",
    "    "
   ]
  },
  {
   "cell_type": "code",
   "execution_count": 27,
   "metadata": {},
   "outputs": [],
   "source": [
    "remove_stpwrd_nletters = inp.map(remove_stopwords_and_nonletters)"
   ]
  },
  {
   "cell_type": "code",
   "execution_count": 28,
   "metadata": {},
   "outputs": [],
   "source": [
    "refine_text = remove_stpwrd_nletters.collect()"
   ]
  },
  {
   "cell_type": "code",
   "execution_count": 29,
   "metadata": {},
   "outputs": [
    {
     "data": {
      "text/plain": [
       "['Games involved happy Because loosened learn reinforcing talked familiar lectures spin test our peers With able connection framing extent subject practice mastery Rufo shown us anything total Car salesman goes names For purposes referred Win You Lose precursor debate off didnt count several overlapped Im discuss strongest admitting straight teaming Im stronger persuading easier competition excel played strong focused',\n",
       " 'instantly facet Im exceed dont exactly truth dont question saying ways conversation passionate nod affirm slip table winning card everybody wins gonna X minute write Y reap rewards Five seem exaggeration Secondly lied expect Im sort expectation later If i outlandish believing']"
      ]
     },
     "execution_count": 29,
     "metadata": {},
     "output_type": "execute_result"
    }
   ],
   "source": [
    "refine_text[:2]"
   ]
  },
  {
   "cell_type": "code",
   "execution_count": 30,
   "metadata": {},
   "outputs": [],
   "source": [
    "with open(\"/home/hatef/courses/term-4/hw3/Datasets/1/output_4.txt\", \"a\") as text_file:\n",
    "    for line in refine_text:\n",
    "        text_file.write(line + \"\\n\")"
   ]
  },
  {
   "cell_type": "code",
   "execution_count": null,
   "metadata": {},
   "outputs": [],
   "source": [
    "### part 5"
   ]
  },
  {
   "cell_type": "code",
   "execution_count": 31,
   "metadata": {},
   "outputs": [],
   "source": [
    "def bigram(text):\n",
    "    text = re.sub(r'[^A-Za-z0-9 ]+', '', text.lower())\n",
    "    return [bi[0] + \"|\" + bi[1] for bi in zip(text.split(\" \")[:-1], text.split(\" \")[1:])]\n"
   ]
  },
  {
   "cell_type": "code",
   "execution_count": 32,
   "metadata": {},
   "outputs": [],
   "source": [
    "bigram_rdd = inp.flatMap(bigram)"
   ]
  },
  {
   "cell_type": "code",
   "execution_count": 33,
   "metadata": {},
   "outputs": [
    {
     "name": "stdout",
     "output_type": "stream",
     "text": [
      "['games|are', 'are|a', 'a|fun', 'fun|way', 'way|to']\n"
     ]
    }
   ],
   "source": [
    "print(bigram_rdd.take(5))"
   ]
  },
  {
   "cell_type": "code",
   "execution_count": 34,
   "metadata": {},
   "outputs": [],
   "source": [
    "bigram_rdd = bigram_rdd.map(lambda word: (word, 1)).reduceByKey(lambda x, y: x + y).map(lambda x: (x[1], x[0])).sortByKey()"
   ]
  },
  {
   "cell_type": "code",
   "execution_count": 35,
   "metadata": {},
   "outputs": [],
   "source": [
    "q5 = bigram_rdd.collect()"
   ]
  },
  {
   "cell_type": "code",
   "execution_count": 36,
   "metadata": {},
   "outputs": [
    {
     "data": {
      "text/plain": [
       "[(13, 'it|is'),\n",
       " (15, 'and|the'),\n",
       " (15, 'this|is'),\n",
       " (53, 'in|the'),\n",
       " (56, 'of|the')]"
      ]
     },
     "execution_count": 36,
     "metadata": {},
     "output_type": "execute_result"
    }
   ],
   "source": [
    "q5[-5:]"
   ]
  },
  {
   "cell_type": "code",
   "execution_count": null,
   "metadata": {},
   "outputs": [],
   "source": []
  }
 ],
 "metadata": {
  "kernelspec": {
   "display_name": "Python 3",
   "language": "python",
   "name": "python3"
  },
  "language_info": {
   "codemirror_mode": {
    "name": "ipython",
    "version": 3
   },
   "file_extension": ".py",
   "mimetype": "text/x-python",
   "name": "python",
   "nbconvert_exporter": "python",
   "pygments_lexer": "ipython3",
   "version": "3.6.8"
  }
 },
 "nbformat": 4,
 "nbformat_minor": 2
}
