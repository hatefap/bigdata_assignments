{
 "cells": [
  {
   "cell_type": "code",
   "execution_count": 1,
   "metadata": {},
   "outputs": [],
   "source": [
    "from pyspark import SparkConf, SparkContext\n",
    "import apache_log_parser as parser\n",
    "import re"
   ]
  },
  {
   "cell_type": "code",
   "execution_count": 2,
   "metadata": {},
   "outputs": [],
   "source": [
    "data_location = \"file:///home/hatef/courses/term-4/hw3/Datasets/2/Log\"\n",
    "conf = SparkConf().setMaster(\"local[*]\").setAppName(\"one\")\n",
    "sc = SparkContext(conf = conf).getOrCreate()"
   ]
  },
  {
   "cell_type": "code",
   "execution_count": 3,
   "metadata": {},
   "outputs": [],
   "source": [
    "inp = sc.textFile(data_location)\n",
    "line_parser = parser.make_parser(\"%h %t \\\"%r\\\" %>s %b\")"
   ]
  },
  {
   "cell_type": "code",
   "execution_count": 4,
   "metadata": {},
   "outputs": [
    {
     "name": "stdout",
     "output_type": "stream",
     "text": [
      "['199.72.81.55 - - [01/Jul/1995:00:00:01 -0400] \"GET /history/apollo/ HTTP/1.0\" 200 6245', 'unicomp6.unicomp.net - - [01/Jul/1995:00:00:06 -0400] \"GET /shuttle/countdown/ HTTP/1.0\" 200 3985', '199.120.110.21 - - [01/Jul/1995:00:00:09 -0400] \"GET /shuttle/missions/sts-73/mission-sts-73.html HTTP/1.0\" 200 4085', 'burger.letters.com - - [01/Jul/1995:00:00:11 -0400] \"GET /shuttle/countdown/liftoff.html HTTP/1.0\" 304 0']\n"
     ]
    }
   ],
   "source": [
    "print(inp.take(4))"
   ]
  },
  {
   "cell_type": "code",
   "execution_count": 1,
   "metadata": {},
   "outputs": [],
   "source": [
    "### for log parsing we use a github parser called apache_log_parser and configure it like this:\n",
    "### parser.make_parser(\"%h %t \\\"%r\\\" %>s %b\") if our parsing throws exception for each line we convert that line \n",
    "### to a dummy line!"
   ]
  },
  {
   "cell_type": "code",
   "execution_count": 5,
   "metadata": {},
   "outputs": [],
   "source": [
    "def parse_log(text):\n",
    "    try:\n",
    "        parsed_line = line_parser(text)\n",
    "        remote_host = parsed_line['remote_host'][:-4]\n",
    "        request_datetime = str(parsed_line['time_received_datetimeobj'])\n",
    "        status = str(parsed_line['status'])\n",
    "        request_url = parsed_line['request_url'].lower()\n",
    "        return (remote_host, status, request_url, request_datetime)\n",
    "    except Exception:\n",
    "        return (\"dummy\", \"dummy\", \"dummy\", \"dummy\")"
   ]
  },
  {
   "cell_type": "code",
   "execution_count": 6,
   "metadata": {},
   "outputs": [],
   "source": [
    "data = inp.map(parse_log)"
   ]
  },
  {
   "cell_type": "code",
   "execution_count": 7,
   "metadata": {},
   "outputs": [
    {
     "data": {
      "text/plain": [
       "[('199.72.81.55', '200', '/history/apollo/', '1995-07-01 00:00:01')]"
      ]
     },
     "execution_count": 7,
     "metadata": {},
     "output_type": "execute_result"
    }
   ],
   "source": [
    "data.take(1)"
   ]
  },
  {
   "cell_type": "code",
   "execution_count": 8,
   "metadata": {},
   "outputs": [],
   "source": [
    "unique_hosts = data.map(lambda x: x[0]).distinct()"
   ]
  },
  {
   "cell_type": "code",
   "execution_count": 9,
   "metadata": {},
   "outputs": [
    {
     "data": {
      "text/plain": [
       "['unicomp6.unicomp.net',\n",
       " '129.94.144.152',\n",
       " 'ppptky391.asahi-net.or.jp',\n",
       " 'slip1.yab.com',\n",
       " 'pm13.j51.com']"
      ]
     },
     "execution_count": 9,
     "metadata": {},
     "output_type": "execute_result"
    }
   ],
   "source": [
    "unique_hosts.take(5)"
   ]
  },
  {
   "cell_type": "code",
   "execution_count": 10,
   "metadata": {},
   "outputs": [
    {
     "name": "stdout",
     "output_type": "stream",
     "text": [
      "81983\n"
     ]
    }
   ],
   "source": [
    "print(unique_hosts.count())"
   ]
  },
  {
   "cell_type": "code",
   "execution_count": 23,
   "metadata": {},
   "outputs": [],
   "source": [
    "### part 2"
   ]
  },
  {
   "cell_type": "code",
   "execution_count": 11,
   "metadata": {},
   "outputs": [],
   "source": [
    "import datetime"
   ]
  },
  {
   "cell_type": "code",
   "execution_count": 12,
   "metadata": {},
   "outputs": [],
   "source": [
    "host_time = data.filter(lambda x: x[0] != \"dummy\")\\\n",
    ".map(lambda x: ((x[0], x[3][:10]), 1)).reduceByKey(lambda x, y: x + y)"
   ]
  },
  {
   "cell_type": "code",
   "execution_count": 13,
   "metadata": {},
   "outputs": [
    {
     "data": {
      "text/plain": [
       "[(('199.120.110.21', '1995-07-01'), 3),\n",
       " (('205.212.115.106', '1995-07-01'), 7),\n",
       " (('smyth-pc.moorecap.com', '1995-07-01'), 9),\n",
       " (('scheyer.clark.net', '1995-07-01'), 2)]"
      ]
     },
     "execution_count": 13,
     "metadata": {},
     "output_type": "execute_result"
    }
   ],
   "source": [
    "host_time.take(4)\n",
    "### in host_time rdd we have ((ip, day), number of visits in that day)"
   ]
  },
  {
   "cell_type": "code",
   "execution_count": 14,
   "metadata": {},
   "outputs": [],
   "source": [
    "avg_host_time = host_time.map(lambda x: (x[0][0], (x[1], 1))).reduceByKey(lambda x, y: (x[0] + y[0], x[1] + y[1]))"
   ]
  },
  {
   "cell_type": "code",
   "execution_count": 15,
   "metadata": {},
   "outputs": [
    {
     "data": {
      "text/plain": [
       "[('usr7-dialup46.chicago.mci.net', (1, 1)),\n",
       " ('isdn6-34.dnai.com', (22, 2)),\n",
       " ('ix-ftw-tx1-24.ix.netcom.com', (8, 2)),\n",
       " ('citynet.ci.la.ca.us', (49, 4))]"
      ]
     },
     "execution_count": 15,
     "metadata": {},
     "output_type": "execute_result"
    }
   ],
   "source": [
    "avg_host_time.take(4)\n",
    "\n",
    "# ip , (totalvisit, totaldays)"
   ]
  },
  {
   "cell_type": "code",
   "execution_count": 16,
   "metadata": {},
   "outputs": [],
   "source": [
    "final_avg_host_time = avg_host_time.mapValues(lambda x: x[0]/x[1])"
   ]
  },
  {
   "cell_type": "code",
   "execution_count": 17,
   "metadata": {},
   "outputs": [
    {
     "data": {
      "text/plain": [
       "[('usr7-dialup46.chicago.mci.net', 1.0),\n",
       " ('isdn6-34.dnai.com', 11.0),\n",
       " ('ix-ftw-tx1-24.ix.netcom.com', 4.0),\n",
       " ('citynet.ci.la.ca.us', 12.25),\n",
       " ('ppp5.earthlight.co.nz', 7.666666666666667),\n",
       " ('199.2.253.2', 1.0),\n",
       " ('ad08-027.compuserve.com', 15.0),\n",
       " ('sos.wingham.com', 12.0),\n",
       " ('slip-774.netaxs.com', 5.0),\n",
       " ('slper1p08.ozemail.com.au', 6.25)]"
      ]
     },
     "execution_count": 17,
     "metadata": {},
     "output_type": "execute_result"
    }
   ],
   "source": [
    "final_avg_host_time.take(10)"
   ]
  },
  {
   "cell_type": "code",
   "execution_count": 12,
   "metadata": {},
   "outputs": [],
   "source": [
    "### part 3"
   ]
  },
  {
   "cell_type": "code",
   "execution_count": 18,
   "metadata": {},
   "outputs": [],
   "source": [
    "gif_rdd = data.map(lambda x: x[2]).filter(lambda x: x.endswith(\".gif\") or x.endswith(\".GIF\"))"
   ]
  },
  {
   "cell_type": "code",
   "execution_count": 19,
   "metadata": {},
   "outputs": [
    {
     "name": "stdout",
     "output_type": "stream",
     "text": [
      "['/shuttle/missions/sts-73/sts-73-patch-small.gif', '/images/nasa-logosmall.gif', '/shuttle/countdown/video/livevideo.gif', '/shuttle/countdown/count.gif', '/images/nasa-logosmall.gif']\n"
     ]
    }
   ],
   "source": [
    "print(gif_rdd.take(5))"
   ]
  },
  {
   "cell_type": "code",
   "execution_count": 20,
   "metadata": {},
   "outputs": [
    {
     "name": "stdout",
     "output_type": "stream",
     "text": [
      "1043869\n"
     ]
    }
   ],
   "source": [
    "print(gif_rdd.count())"
   ]
  },
  {
   "cell_type": "code",
   "execution_count": 62,
   "metadata": {},
   "outputs": [],
   "source": [
    "### part 4"
   ]
  },
  {
   "cell_type": "code",
   "execution_count": 21,
   "metadata": {},
   "outputs": [],
   "source": [
    "### we exclude ip address with this regex and apply the similar logic in quesion 2\n",
    "expression = re.compile('^\\d{1,3}\\.\\d{1,3}\\.\\d{1,3}\\.\\d{1,3}$')\n",
    "most_wanted_hosts = data.filter(lambda x: not expression.match(x[0])).map(lambda x: ((x[0], x[3][:10]), 1)).reduceByKey(lambda x, y: x + y)"
   ]
  },
  {
   "cell_type": "code",
   "execution_count": 22,
   "metadata": {},
   "outputs": [
    {
     "name": "stdout",
     "output_type": "stream",
     "text": [
      "[(('smyth-pc.moorecap.com', '1995-07-01'), 9), (('scheyer.clark.net', '1995-07-01'), 2), (('remote27.compusmart.ab.ca', '1995-07-01'), 15), (('port2.electrotex.com', '1995-07-01'), 4), (('usr7-dialup46.chicago.mci.net', '1995-07-01'), 1)]\n"
     ]
    }
   ],
   "source": [
    "print(most_wanted_hosts.take(5))\n",
    "\n",
    "# ((host name, day), visited on that day)"
   ]
  },
  {
   "cell_type": "code",
   "execution_count": 23,
   "metadata": {},
   "outputs": [],
   "source": [
    "most = most_wanted_hosts.map(lambda x: (x[0][1], (x[0][0], x[1])))\\\n",
    ".reduceByKey(lambda x, y: (x[0], x[1]) if x[1] > y[1] else (y[0], y[1])).sortBy(lambda x: x[1][1])"
   ]
  },
  {
   "cell_type": "code",
   "execution_count": 26,
   "metadata": {},
   "outputs": [
    {
     "data": {
      "text/plain": [
       "[('dummy', ('dummy', 1)),\n",
       " ('1995-07-27', ('edams.ksc.nasa.gov', 283)),\n",
       " ('1995-07-26', ('piweba3y.prodigy.com', 312)),\n",
       " ('1995-07-24', ('edams.ksc.nasa.gov', 336)),\n",
       " ('1995-07-28', ('pcmas.it.bton.ac.uk', 353)),\n",
       " ('1995-07-10', ('e659229.boeing.com', 358)),\n",
       " ('1995-07-18', ('siltb10.orl.mmc.com', 518)),\n",
       " ('1995-07-09', ('alyssa.prodigy.com', 545)),\n",
       " ('1995-07-01', ('piweba3y.prodigy.com', 623)),\n",
       " ('1995-07-22', ('currypc.fpl.msstate.edu', 700)),\n",
       " ('1995-07-23', ('currypc.fpl.msstate.edu', 709)),\n",
       " ('1995-07-06', ('piweba3y.prodigy.com', 732)),\n",
       " ('1995-07-25', ('jbiagioni.npt.nuwc.navy.mil', 763)),\n",
       " ('1995-07-08', ('piweba3y.prodigy.com', 781)),\n",
       " ('1995-07-05', ('news.ti.com', 826)),\n",
       " ('1995-07-19', ('siltb10.orl.mmc.com', 847)),\n",
       " ('1995-07-17', ('siltb10.orl.mmc.com', 850)),\n",
       " ('1995-07-07', ('piweba3y.prodigy.com', 879)),\n",
       " ('1995-07-20', ('siltb10.orl.mmc.com', 884)),\n",
       " ('1995-07-02', ('piweba3y.prodigy.com', 960))]"
      ]
     },
     "execution_count": 26,
     "metadata": {},
     "output_type": "execute_result"
    }
   ],
   "source": [
    "most.take(20)"
   ]
  },
  {
   "cell_type": "code",
   "execution_count": 18,
   "metadata": {},
   "outputs": [],
   "source": [
    "### part 5"
   ]
  },
  {
   "cell_type": "code",
   "execution_count": 31,
   "metadata": {},
   "outputs": [],
   "source": [
    "errors = data.map(lambda x: x[1]).filter(lambda x: x != \"200\" and x != \"dummy\").countByValue()"
   ]
  },
  {
   "cell_type": "code",
   "execution_count": 32,
   "metadata": {},
   "outputs": [
    {
     "name": "stdout",
     "output_type": "stream",
     "text": [
      "defaultdict(<class 'int'>, {'304': 132627, '302': 46573, '404': 10845, '403': 54, '500': 62, '501': 14, '400': 5})\n"
     ]
    }
   ],
   "source": [
    "print(errors)"
   ]
  },
  {
   "cell_type": "code",
   "execution_count": 34,
   "metadata": {},
   "outputs": [
    {
     "data": {
      "image/png": "[encoded data removed]",
      "text/plain": [
       "<Figure size 432x288 with 1 Axes>"
      ]
     },
     "metadata": {
      "needs_background": "light"
     },
     "output_type": "display_data"
    }
   ],
   "source": [
    "import matplotlib.pyplot as plt\n",
    "fig = plt.figure()\n",
    "ax = fig.add_axes([0,0,1,1])\n",
    "err = []\n",
    "cnt = []\n",
    "for e, c in errors.items():\n",
    "    err.append(e)\n",
    "    cnt.append(c)\n",
    "ax.bar(err,cnt)\n",
    "plt.show()"
   ]
  },
  {
   "cell_type": "code",
   "execution_count": null,
   "metadata": {},
   "outputs": [],
   "source": []
  }
 ],
 "metadata": {
  "kernelspec": {
   "display_name": "Python 3",
   "language": "python",
   "name": "python3"
  },
  "language_info": {
   "codemirror_mode": {
    "name": "ipython",
    "version": 3
   },
   "file_extension": ".py",
   "mimetype": "text/x-python",
   "name": "python",
   "nbconvert_exporter": "python",
   "pygments_lexer": "ipython3",
   "version": "3.6.8"
  }
 },
 "nbformat": 4,
 "nbformat_minor": 2
}
